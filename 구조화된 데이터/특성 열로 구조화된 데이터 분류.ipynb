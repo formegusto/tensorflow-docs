{
 "cells": [
  {
   "cell_type": "code",
   "execution_count": 1,
   "id": "0d8700e6",
   "metadata": {},
   "outputs": [],
   "source": [
    "import numpy as np\n",
    "import pandas as pd\n",
    "\n",
    "\n",
    "import tensorflow as tf\n",
    "\n",
    "from tensorflow import feature_column\n",
    "from tensorflow.keras import layers\n",
    "from sklearn.model_selection import train_test_split"
   ]
  },
  {
   "cell_type": "code",
   "execution_count": 14,
   "id": "8b09b74b",
   "metadata": {},
   "outputs": [
    {
     "data": {
      "text/html": [
       "<div>\n",
       "<style scoped>\n",
       "    .dataframe tbody tr th:only-of-type {\n",
       "        vertical-align: middle;\n",
       "    }\n",
       "\n",
       "    .dataframe tbody tr th {\n",
       "        vertical-align: top;\n",
       "    }\n",
       "\n",
       "    .dataframe thead th {\n",
       "        text-align: right;\n",
       "    }\n",
       "</style>\n",
       "<table border=\"1\" class=\"dataframe\">\n",
       "  <thead>\n",
       "    <tr style=\"text-align: right;\">\n",
       "      <th></th>\n",
       "      <th>age</th>\n",
       "      <th>sex</th>\n",
       "      <th>cp</th>\n",
       "      <th>trestbps</th>\n",
       "      <th>chol</th>\n",
       "      <th>fbs</th>\n",
       "      <th>restecg</th>\n",
       "      <th>thalach</th>\n",
       "      <th>exang</th>\n",
       "      <th>oldpeak</th>\n",
       "      <th>slope</th>\n",
       "      <th>ca</th>\n",
       "      <th>thal</th>\n",
       "      <th>target</th>\n",
       "    </tr>\n",
       "  </thead>\n",
       "  <tbody>\n",
       "    <tr>\n",
       "      <th>0</th>\n",
       "      <td>63</td>\n",
       "      <td>1</td>\n",
       "      <td>3</td>\n",
       "      <td>145</td>\n",
       "      <td>233</td>\n",
       "      <td>1</td>\n",
       "      <td>0</td>\n",
       "      <td>150</td>\n",
       "      <td>0</td>\n",
       "      <td>2.3</td>\n",
       "      <td>0</td>\n",
       "      <td>0</td>\n",
       "      <td>normal</td>\n",
       "      <td>1</td>\n",
       "    </tr>\n",
       "    <tr>\n",
       "      <th>1</th>\n",
       "      <td>37</td>\n",
       "      <td>1</td>\n",
       "      <td>2</td>\n",
       "      <td>130</td>\n",
       "      <td>250</td>\n",
       "      <td>0</td>\n",
       "      <td>1</td>\n",
       "      <td>187</td>\n",
       "      <td>0</td>\n",
       "      <td>3.5</td>\n",
       "      <td>0</td>\n",
       "      <td>0</td>\n",
       "      <td>reversible</td>\n",
       "      <td>1</td>\n",
       "    </tr>\n",
       "    <tr>\n",
       "      <th>2</th>\n",
       "      <td>41</td>\n",
       "      <td>0</td>\n",
       "      <td>1</td>\n",
       "      <td>130</td>\n",
       "      <td>204</td>\n",
       "      <td>0</td>\n",
       "      <td>0</td>\n",
       "      <td>172</td>\n",
       "      <td>0</td>\n",
       "      <td>1.4</td>\n",
       "      <td>2</td>\n",
       "      <td>0</td>\n",
       "      <td>reversible</td>\n",
       "      <td>1</td>\n",
       "    </tr>\n",
       "    <tr>\n",
       "      <th>3</th>\n",
       "      <td>56</td>\n",
       "      <td>1</td>\n",
       "      <td>1</td>\n",
       "      <td>120</td>\n",
       "      <td>236</td>\n",
       "      <td>0</td>\n",
       "      <td>1</td>\n",
       "      <td>178</td>\n",
       "      <td>0</td>\n",
       "      <td>0.8</td>\n",
       "      <td>2</td>\n",
       "      <td>0</td>\n",
       "      <td>reversible</td>\n",
       "      <td>1</td>\n",
       "    </tr>\n",
       "    <tr>\n",
       "      <th>4</th>\n",
       "      <td>57</td>\n",
       "      <td>0</td>\n",
       "      <td>0</td>\n",
       "      <td>120</td>\n",
       "      <td>354</td>\n",
       "      <td>0</td>\n",
       "      <td>1</td>\n",
       "      <td>163</td>\n",
       "      <td>1</td>\n",
       "      <td>0.6</td>\n",
       "      <td>2</td>\n",
       "      <td>0</td>\n",
       "      <td>reversible</td>\n",
       "      <td>1</td>\n",
       "    </tr>\n",
       "  </tbody>\n",
       "</table>\n",
       "</div>"
      ],
      "text/plain": [
       "   age  sex  cp  trestbps  chol  fbs  restecg  thalach  exang  oldpeak  slope  \\\n",
       "0   63    1   3       145   233    1        0      150      0      2.3      0   \n",
       "1   37    1   2       130   250    0        1      187      0      3.5      0   \n",
       "2   41    0   1       130   204    0        0      172      0      1.4      2   \n",
       "3   56    1   1       120   236    0        1      178      0      0.8      2   \n",
       "4   57    0   0       120   354    0        1      163      1      0.6      2   \n",
       "\n",
       "   ca        thal  target  \n",
       "0   0      normal       1  \n",
       "1   0  reversible       1  \n",
       "2   0  reversible       1  \n",
       "3   0  reversible       1  \n",
       "4   0  reversible       1  "
      ]
     },
     "execution_count": 14,
     "metadata": {},
     "output_type": "execute_result"
    }
   ],
   "source": [
    "URL = './datas/heart.csv'\n",
    "dataframe = pd.read_csv(URL)\n",
    "\n",
    "dataframe['thal']\n",
    "thals = ['fixed', 'normal', 'reversible', 'unknown']\n",
    "thal_str = np.array([])\n",
    "\n",
    "for thal in dataframe['thal']:\n",
    "    thal_str = np.append(thal_str, thals[thal])\n",
    "    \n",
    "dataframe['thal'] = thal_str\n",
    "dataframe.head()"
   ]
  },
  {
   "cell_type": "code",
   "execution_count": 9,
   "id": "7426d0d0",
   "metadata": {},
   "outputs": [
    {
     "name": "stdout",
     "output_type": "stream",
     "text": [
      "193 훈련 샘플\n",
      "49 검증 샘플\n",
      "61 테스트 샘플\n"
     ]
    }
   ],
   "source": [
    "train, test = train_test_split(dataframe, test_size=0.2)\n",
    "train, val = train_test_split(train, test_size=0.2)\n",
    "print(len(train), '훈련 샘플')\n",
    "print(len(val), '검증 샘플')\n",
    "print(len(test), '테스트 샘플')"
   ]
  },
  {
   "cell_type": "code",
   "execution_count": 13,
   "id": "06e84f46",
   "metadata": {},
   "outputs": [
    {
     "name": "stdout",
     "output_type": "stream",
     "text": [
      "<class 'pandas.core.frame.DataFrame'>\n",
      "Int64Index: 193 entries, 284 to 165\n",
      "Data columns (total 14 columns):\n",
      " #   Column    Non-Null Count  Dtype  \n",
      "---  ------    --------------  -----  \n",
      " 0   age       193 non-null    int64  \n",
      " 1   sex       193 non-null    int64  \n",
      " 2   cp        193 non-null    int64  \n",
      " 3   trestbps  193 non-null    int64  \n",
      " 4   chol      193 non-null    int64  \n",
      " 5   fbs       193 non-null    int64  \n",
      " 6   restecg   193 non-null    int64  \n",
      " 7   thalach   193 non-null    int64  \n",
      " 8   exang     193 non-null    int64  \n",
      " 9   oldpeak   193 non-null    float64\n",
      " 10  slope     193 non-null    int64  \n",
      " 11  ca        193 non-null    int64  \n",
      " 12  thal      193 non-null    object \n",
      " 13  target    193 non-null    int64  \n",
      "dtypes: float64(1), int64(12), object(1)\n",
      "memory usage: 22.6+ KB\n"
     ]
    }
   ],
   "source": [
    "train.info()"
   ]
  },
  {
   "cell_type": "code",
   "execution_count": 10,
   "id": "2d623b31",
   "metadata": {},
   "outputs": [],
   "source": [
    "# 판다스 데이터프레임으로부터 tf.data 데이터셋을 만들기 위한 함수\n",
    "def df_to_dataset(dataframe, shuffle=True, batch_size=32):\n",
    "  dataframe = dataframe.copy()\n",
    "  labels = dataframe.pop('target')\n",
    "  ds = tf.data.Dataset.from_tensor_slices((dict(dataframe), labels))\n",
    "  if shuffle:\n",
    "    ds = ds.shuffle(buffer_size=len(dataframe))\n",
    "  ds = ds.batch(batch_size)\n",
    "  return ds"
   ]
  },
  {
   "cell_type": "code",
   "execution_count": 11,
   "id": "3217cada",
   "metadata": {},
   "outputs": [],
   "source": [
    "batch_size = 5 # 예제를 위해 작은 배치 크기를 사용합니다.\n",
    "train_ds = df_to_dataset(train, batch_size=batch_size)\n",
    "val_ds = df_to_dataset(val, shuffle=False, batch_size=batch_size)\n",
    "test_ds = df_to_dataset(test, shuffle=False, batch_size=batch_size)"
   ]
  },
  {
   "cell_type": "code",
   "execution_count": 12,
   "id": "e7d4a3c2",
   "metadata": {},
   "outputs": [
    {
     "name": "stdout",
     "output_type": "stream",
     "text": [
      "전체 특성: ['age', 'sex', 'cp', 'trestbps', 'chol', 'fbs', 'restecg', 'thalach', 'exang', 'oldpeak', 'slope', 'ca', 'thal']\n",
      "나이 특성의 배치: tf.Tensor([51 53 57 39 62], shape=(5,), dtype=int64)\n",
      "타깃의 배치: tf.Tensor([1 0 1 1 0], shape=(5,), dtype=int64)\n"
     ]
    }
   ],
   "source": [
    "for feature_batch, label_batch in train_ds.take(1):\n",
    "  print('전체 특성:', list(feature_batch.keys()))\n",
    "  print('나이 특성의 배치:', feature_batch['age'])\n",
    "  print('타깃의 배치:', label_batch )"
   ]
  },
  {
   "cell_type": "code",
   "execution_count": 7,
   "id": "ba8c2a25",
   "metadata": {},
   "outputs": [],
   "source": [
    "# 특성 열을 시험해 보기 위해 샘플 배치를 만듭니다.\n",
    "example_batch = next(iter(train_ds))[0]"
   ]
  },
  {
   "cell_type": "code",
   "execution_count": 108,
   "id": "adfceb98",
   "metadata": {},
   "outputs": [],
   "source": [
    "# 특성 열을 만들고 배치 데이터를 변환하는 함수\n",
    "def demo(feature_column):\n",
    "  feature_layer = layers.DenseFeatures(feature_column)\n",
    "#   print(feature_layer(example_batch).numpy())\n",
    "    \n",
    "  return feature_layer(example_batch).numpy()"
   ]
  },
  {
   "cell_type": "code",
   "execution_count": 109,
   "id": "f0c585af",
   "metadata": {},
   "outputs": [
    {
     "name": "stdout",
     "output_type": "stream",
     "text": [
      "층 지나기 전 [58 46 41 59 63]\n",
      "층 지난 후 [[58.]\n",
      " [46.]\n",
      " [41.]\n",
      " [59.]\n",
      " [63.]]\n"
     ]
    }
   ],
   "source": [
    "age = feature_column.numeric_column(\"age\")\n",
    "\n",
    "print(\"층 지나기 전\",example_batch['age'].numpy())\n",
    "print(\"층 지난 후\",demo(age))"
   ]
  },
  {
   "cell_type": "code",
   "execution_count": 110,
   "id": "6a6444b2",
   "metadata": {},
   "outputs": [
    {
     "name": "stdout",
     "output_type": "stream",
     "text": [
      "버킷 사이즈 (10,)\n",
      "층 지나기 전 [58 46 41 59 63]\n",
      "층 지난 후 [[0. 0. 0. 0. 0. 0. 0. 0. 1. 0. 0.]\n",
      " [0. 0. 0. 0. 0. 0. 1. 0. 0. 0. 0.]\n",
      " [0. 0. 0. 0. 0. 1. 0. 0. 0. 0. 0.]\n",
      " [0. 0. 0. 0. 0. 0. 0. 0. 1. 0. 0.]\n",
      " [0. 0. 0. 0. 0. 0. 0. 0. 0. 1. 0.]]\n",
      "버킷 결과 사이즈 (5, 11)\n"
     ]
    }
   ],
   "source": [
    "boundaries = np.array([18, 25, 30, 35, 40, 45, 50, 55, 60, 65])\n",
    "print(\"버킷 사이즈\",boundaries.shape)\n",
    "age_buckets = feature_column.bucketized_column(age, boundaries=list(boundaries))\n",
    "\n",
    "print(\"층 지나기 전\",example_batch['age'].numpy())\n",
    "print(\"층 지난 후\",demo(age_buckets))\n",
    "print(\"버킷 결과 사이즈\",demo(age_buckets).shape)"
   ]
  },
  {
   "cell_type": "code",
   "execution_count": 113,
   "id": "a0f25f29",
   "metadata": {},
   "outputs": [
    {
     "name": "stdout",
     "output_type": "stream",
     "text": [
      "층 지나기 전 [b'normal' b'reversible' b'reversible' b'unknown' b'unknown']\n",
      "층 지난 후 [[0. 1. 0. 0.]\n",
      " [0. 0. 1. 0.]\n",
      " [0. 0. 1. 0.]\n",
      " [0. 0. 0. 1.]\n",
      " [0. 0. 0. 1.]]\n"
     ]
    }
   ],
   "source": [
    "thals = ['fixed', 'normal', 'reversible', 'unknown']\n",
    "thal = feature_column.categorical_column_with_vocabulary_list(\n",
    "      'thal', thals)\n",
    "\n",
    "thal_one_hot = feature_column.indicator_column(thal)\n",
    "print(\"층 지나기 전\", example_batch['thal'].numpy())\n",
    "print(\"층 지난 후\", demo(thal_one_hot))"
   ]
  },
  {
   "cell_type": "code",
   "execution_count": 115,
   "id": "2a224ad2",
   "metadata": {},
   "outputs": [
    {
     "name": "stdout",
     "output_type": "stream",
     "text": [
      "층 지나기 전 [[0. 1. 0. 0.]\n",
      " [0. 0. 1. 0.]\n",
      " [0. 0. 1. 0.]\n",
      " [0. 0. 0. 1.]\n",
      " [0. 0. 0. 1.]]\n",
      "층 지난 후 [[ 0.23888093  0.30186707 -0.25977695 -0.1994912  -0.34000975 -0.5717341\n",
      "   0.18679073  0.26635703]\n",
      " [-0.5017554   0.30119684  0.38963363 -0.24513417  0.52775043  0.17985776\n",
      "   0.04607302 -0.25360796]\n",
      " [-0.5017554   0.30119684  0.38963363 -0.24513417  0.52775043  0.17985776\n",
      "   0.04607302 -0.25360796]\n",
      " [-0.01357286 -0.08513401  0.35047606 -0.15298954  0.66920584  0.02583694\n",
      "   0.14474444 -0.23812744]\n",
      " [-0.01357286 -0.08513401  0.35047606 -0.15298954  0.66920584  0.02583694\n",
      "   0.14474444 -0.23812744]]\n"
     ]
    }
   ],
   "source": [
    "# 임베딩 열의 입력은 앞서 만든 범주형 열입니다.\n",
    "thal_embedding = feature_column.embedding_column(thal, dimension=8)\n",
    "\n",
    "print(\"층 지나기 전\", demo(thal_one_hot))\n",
    "print(\"층 지난 후\", demo(thal_embedding))"
   ]
  },
  {
   "cell_type": "code",
   "execution_count": 116,
   "id": "76fa87d2",
   "metadata": {},
   "outputs": [
    {
     "name": "stdout",
     "output_type": "stream",
     "text": [
      "층 지나기 전 [b'normal' b'reversible' b'reversible' b'unknown' b'unknown']\n",
      "층 지난 후 [[0. 0. 0. ... 0. 0. 0.]\n",
      " [0. 0. 0. ... 0. 0. 0.]\n",
      " [0. 0. 0. ... 0. 0. 0.]\n",
      " [0. 0. 0. ... 0. 0. 0.]\n",
      " [0. 0. 0. ... 0. 0. 0.]]\n"
     ]
    }
   ],
   "source": [
    "thal_hashed = feature_column.categorical_column_with_hash_bucket(\n",
    "      'thal', hash_bucket_size=1000)\n",
    "print(\"층 지나기 전\", example_batch['thal'].numpy())\n",
    "print(\"층 지난 후\", demo(feature_column.indicator_column(thal_hashed)))"
   ]
  },
  {
   "cell_type": "code",
   "execution_count": 132,
   "id": "be3fef1c",
   "metadata": {},
   "outputs": [
    {
     "name": "stdout",
     "output_type": "stream",
     "text": [
      "층 지나기 전 [58 46 41 59 63]\n",
      "층 지나기 전 [b'normal' b'reversible' b'reversible' b'unknown' b'unknown']\n",
      "층 지난 후 [[0. 0. 0. ... 0. 0. 0.]\n",
      " [0. 0. 0. ... 0. 0. 0.]\n",
      " [0. 0. 0. ... 0. 0. 0.]\n",
      " [0. 0. 0. ... 0. 0. 0.]\n",
      " [0. 0. 0. ... 0. 0. 0.]]\n"
     ]
    }
   ],
   "source": [
    "crossed_feature = feature_column.crossed_column([age_buckets, thal], hash_bucket_size=1000)\n",
    "\n",
    "print(\"층 지나기 전\", example_batch['age'].numpy())\n",
    "print(\"층 지나기 전\", example_batch['thal'].numpy())\n",
    "print(\"층 지난 후\", demo(feature_column.indicator_column(crossed_feature)))"
   ]
  },
  {
   "cell_type": "code",
   "execution_count": null,
   "id": "3116e31b",
   "metadata": {},
   "outputs": [],
   "source": []
  },
  {
   "cell_type": "code",
   "execution_count": 135,
   "id": "660b5404",
   "metadata": {},
   "outputs": [],
   "source": [
    "feature_columns = []\n",
    "\n",
    "# 수치형 열\n",
    "for header in ['age', 'trestbps', 'chol', 'thalach', 'oldpeak', 'slope', 'ca']:\n",
    "  feature_columns.append(feature_column.numeric_column(header))\n",
    "\n",
    "# 버킷형 열\n",
    "age_buckets = feature_column.bucketized_column(age, boundaries=[18, 25, 30, 35, 40, 45, 50, 55, 60, 65])\n",
    "feature_columns.append(age_buckets)\n",
    "\n",
    "# 범주형 열\n",
    "thal = feature_column.categorical_column_with_vocabulary_list(\n",
    "      'thal', ['0', '1','2', '3'])\n",
    "thal_one_hot = feature_column.indicator_column(thal)\n",
    "feature_columns.append(thal_one_hot)\n",
    "\n",
    "# 임베딩 열\n",
    "thal_embedding = feature_column.embedding_column(thal, dimension=8)\n",
    "feature_columns.append(thal_embedding)\n",
    "\n",
    "# 교차 특성 열\n",
    "crossed_feature = feature_column.crossed_column([age_buckets, thal], hash_bucket_size=1000)\n",
    "crossed_feature = feature_column.indicator_column(crossed_feature)\n",
    "feature_columns.append(crossed_feature)"
   ]
  },
  {
   "cell_type": "code",
   "execution_count": 149,
   "id": "60abfffa",
   "metadata": {},
   "outputs": [
    {
     "name": "stdout",
     "output_type": "stream",
     "text": [
      "학습 배치 벡터 크기 (5, 20)\n"
     ]
    },
    {
     "data": {
      "text/plain": [
       "<tf.Tensor: shape=(5, 20), dtype=float32, numpy=\n",
       "array([[ 5.8000000e+01,  0.0000000e+00,  0.0000000e+00,  0.0000000e+00,\n",
       "         0.0000000e+00,  0.0000000e+00,  0.0000000e+00,  0.0000000e+00,\n",
       "         0.0000000e+00,  1.0000000e+00,  0.0000000e+00,  0.0000000e+00,\n",
       "         4.5416072e-01,  4.1832155e-01,  2.2656007e-01,  2.2586979e-01,\n",
       "        -1.8606263e-01,  1.4371683e-01,  2.2610144e-01, -5.2489495e-01],\n",
       "       [ 4.6000000e+01,  0.0000000e+00,  0.0000000e+00,  0.0000000e+00,\n",
       "         0.0000000e+00,  0.0000000e+00,  0.0000000e+00,  1.0000000e+00,\n",
       "         0.0000000e+00,  0.0000000e+00,  0.0000000e+00,  0.0000000e+00,\n",
       "        -3.9937806e-01,  5.8340001e-01,  3.4974739e-01,  2.4795340e-01,\n",
       "        -4.7335532e-02, -4.6615475e-01, -5.8903295e-01, -2.9781199e-01],\n",
       "       [ 4.1000000e+01,  0.0000000e+00,  0.0000000e+00,  0.0000000e+00,\n",
       "         0.0000000e+00,  0.0000000e+00,  1.0000000e+00,  0.0000000e+00,\n",
       "         0.0000000e+00,  0.0000000e+00,  0.0000000e+00,  0.0000000e+00,\n",
       "        -3.9937806e-01,  5.8340001e-01,  3.4974739e-01,  2.4795340e-01,\n",
       "        -4.7335532e-02, -4.6615475e-01, -5.8903295e-01, -2.9781199e-01],\n",
       "       [ 5.9000000e+01,  0.0000000e+00,  0.0000000e+00,  0.0000000e+00,\n",
       "         0.0000000e+00,  0.0000000e+00,  0.0000000e+00,  0.0000000e+00,\n",
       "         0.0000000e+00,  1.0000000e+00,  0.0000000e+00,  0.0000000e+00,\n",
       "         3.0782461e-01,  3.2905310e-01, -1.7964493e-01, -4.5342430e-01,\n",
       "        -1.1992305e-01,  8.4598064e-02,  6.0995948e-01,  2.7572903e-01],\n",
       "       [ 6.3000000e+01,  0.0000000e+00,  0.0000000e+00,  0.0000000e+00,\n",
       "         0.0000000e+00,  0.0000000e+00,  0.0000000e+00,  0.0000000e+00,\n",
       "         0.0000000e+00,  0.0000000e+00,  1.0000000e+00,  0.0000000e+00,\n",
       "         3.0782461e-01,  3.2905310e-01, -1.7964493e-01, -4.5342430e-01,\n",
       "        -1.1992305e-01,  8.4598064e-02,  6.0995948e-01,  2.7572903e-01]],\n",
       "      dtype=float32)>"
      ]
     },
     "execution_count": 149,
     "metadata": {},
     "output_type": "execute_result"
    }
   ],
   "source": [
    "feature_columns = []\n",
    "\n",
    "for header in ['age']:\n",
    "    feature_columns.append(feature_column.numeric_column(header))\n",
    "    \n",
    "# 버킷형 열\n",
    "age_buckets = feature_column.bucketized_column(feature_columns[0], boundaries=[18, 25, 30, 35, 40, 45, 50, 55, 60, 65])\n",
    "feature_columns.append(age_buckets)\n",
    "\n",
    "# 범주형 열 (원-핫 인코딩)\n",
    "thal = feature_column.categorical_column_with_vocabulary_list(\n",
    "      'thal', thals)\n",
    "thal_one_hot = feature_column.indicator_column(thal)\n",
    "# 임베딩 열\n",
    "thal_embedding = feature_column.embedding_column(thal, dimension=8)\n",
    "feature_columns.append(thal_embedding)\n",
    "    \n",
    "feature_layer = tf.keras.layers.DenseFeatures(feature_columns)\n",
    "print(\"학습 배치 벡터 크기\", feature_layer(example_batch).shape)\n",
    "feature_layer(example_batch)"
   ]
  },
  {
   "cell_type": "code",
   "execution_count": 136,
   "id": "67199f8d",
   "metadata": {},
   "outputs": [],
   "source": [
    "feature_layer = tf.keras.layers.DenseFeatures(feature_columns)"
   ]
  },
  {
   "cell_type": "code",
   "execution_count": 139,
   "id": "db2e1c40",
   "metadata": {},
   "outputs": [
    {
     "data": {
      "text/plain": [
       "<tf.Tensor: shape=(5, 1030), dtype=float32, numpy=\n",
       "array([[ 58.,   0.,   0., ...,   0., 140., 114.],\n",
       "       [ 46.,   0.,   0., ...,   0., 147., 150.],\n",
       "       [ 41.,   0.,   0., ...,   0., 172., 130.],\n",
       "       [ 59.,   0.,   0., ...,   0., 159., 170.],\n",
       "       [ 63.,   0.,   0., ...,   0., 132., 130.]], dtype=float32)>"
      ]
     },
     "execution_count": 139,
     "metadata": {},
     "output_type": "execute_result"
    }
   ],
   "source": [
    "feature_layer(example_batch)"
   ]
  },
  {
   "cell_type": "code",
   "execution_count": 59,
   "id": "7e648b44",
   "metadata": {},
   "outputs": [],
   "source": [
    "batch_size = 32\n",
    "train_ds = df_to_dataset(train, batch_size=batch_size)\n",
    "val_ds = df_to_dataset(val, shuffle=False, batch_size=batch_size)\n",
    "test_ds = df_to_dataset(test, shuffle=False, batch_size=batch_size)"
   ]
  },
  {
   "cell_type": "code",
   "execution_count": 60,
   "id": "db2129f7",
   "metadata": {},
   "outputs": [
    {
     "name": "stdout",
     "output_type": "stream",
     "text": [
      "Epoch 1/5\n",
      "WARNING:tensorflow:Layers in a Sequential model should only have a single input tensor, but we receive a <class 'dict'> input: {'age': <tf.Tensor 'IteratorGetNext:0' shape=(None,) dtype=int64>, 'sex': <tf.Tensor 'IteratorGetNext:8' shape=(None,) dtype=int64>, 'cp': <tf.Tensor 'IteratorGetNext:3' shape=(None,) dtype=int64>, 'trestbps': <tf.Tensor 'IteratorGetNext:12' shape=(None,) dtype=int64>, 'chol': <tf.Tensor 'IteratorGetNext:2' shape=(None,) dtype=int64>, 'fbs': <tf.Tensor 'IteratorGetNext:5' shape=(None,) dtype=int64>, 'restecg': <tf.Tensor 'IteratorGetNext:7' shape=(None,) dtype=int64>, 'thalach': <tf.Tensor 'IteratorGetNext:11' shape=(None,) dtype=int64>, 'exang': <tf.Tensor 'IteratorGetNext:4' shape=(None,) dtype=int64>, 'oldpeak': <tf.Tensor 'IteratorGetNext:6' shape=(None,) dtype=float64>, 'slope': <tf.Tensor 'IteratorGetNext:9' shape=(None,) dtype=int64>, 'ca': <tf.Tensor 'IteratorGetNext:1' shape=(None,) dtype=int64>, 'thal': <tf.Tensor 'IteratorGetNext:10' shape=(None,) dtype=string>}\n",
      "Consider rewriting this model with the Functional API.\n",
      "WARNING:tensorflow:Layers in a Sequential model should only have a single input tensor, but we receive a <class 'dict'> input: {'age': <tf.Tensor 'IteratorGetNext:0' shape=(None,) dtype=int64>, 'sex': <tf.Tensor 'IteratorGetNext:8' shape=(None,) dtype=int64>, 'cp': <tf.Tensor 'IteratorGetNext:3' shape=(None,) dtype=int64>, 'trestbps': <tf.Tensor 'IteratorGetNext:12' shape=(None,) dtype=int64>, 'chol': <tf.Tensor 'IteratorGetNext:2' shape=(None,) dtype=int64>, 'fbs': <tf.Tensor 'IteratorGetNext:5' shape=(None,) dtype=int64>, 'restecg': <tf.Tensor 'IteratorGetNext:7' shape=(None,) dtype=int64>, 'thalach': <tf.Tensor 'IteratorGetNext:11' shape=(None,) dtype=int64>, 'exang': <tf.Tensor 'IteratorGetNext:4' shape=(None,) dtype=int64>, 'oldpeak': <tf.Tensor 'IteratorGetNext:6' shape=(None,) dtype=float64>, 'slope': <tf.Tensor 'IteratorGetNext:9' shape=(None,) dtype=int64>, 'ca': <tf.Tensor 'IteratorGetNext:1' shape=(None,) dtype=int64>, 'thal': <tf.Tensor 'IteratorGetNext:10' shape=(None,) dtype=string>}\n",
      "Consider rewriting this model with the Functional API.\n",
      "1/7 [===>..........................] - ETA: 3s - loss: 6.7251 - accuracy: 0.4688WARNING:tensorflow:Layers in a Sequential model should only have a single input tensor, but we receive a <class 'dict'> input: {'age': <tf.Tensor 'IteratorGetNext:0' shape=(None,) dtype=int64>, 'sex': <tf.Tensor 'IteratorGetNext:8' shape=(None,) dtype=int64>, 'cp': <tf.Tensor 'IteratorGetNext:3' shape=(None,) dtype=int64>, 'trestbps': <tf.Tensor 'IteratorGetNext:12' shape=(None,) dtype=int64>, 'chol': <tf.Tensor 'IteratorGetNext:2' shape=(None,) dtype=int64>, 'fbs': <tf.Tensor 'IteratorGetNext:5' shape=(None,) dtype=int64>, 'restecg': <tf.Tensor 'IteratorGetNext:7' shape=(None,) dtype=int64>, 'thalach': <tf.Tensor 'IteratorGetNext:11' shape=(None,) dtype=int64>, 'exang': <tf.Tensor 'IteratorGetNext:4' shape=(None,) dtype=int64>, 'oldpeak': <tf.Tensor 'IteratorGetNext:6' shape=(None,) dtype=float64>, 'slope': <tf.Tensor 'IteratorGetNext:9' shape=(None,) dtype=int64>, 'ca': <tf.Tensor 'IteratorGetNext:1' shape=(None,) dtype=int64>, 'thal': <tf.Tensor 'IteratorGetNext:10' shape=(None,) dtype=string>}\n",
      "Consider rewriting this model with the Functional API.\n",
      "7/7 [==============================] - 1s 32ms/step - loss: 3.8627 - accuracy: 0.5130 - val_loss: 1.0369 - val_accuracy: 0.4694\n",
      "Epoch 2/5\n",
      "7/7 [==============================] - 0s 4ms/step - loss: 2.2435 - accuracy: 0.4508 - val_loss: 1.7263 - val_accuracy: 0.5102\n",
      "Epoch 3/5\n",
      "7/7 [==============================] - 0s 4ms/step - loss: 1.9659 - accuracy: 0.5492 - val_loss: 0.9355 - val_accuracy: 0.4490\n",
      "Epoch 4/5\n",
      "7/7 [==============================] - 0s 4ms/step - loss: 0.6236 - accuracy: 0.6943 - val_loss: 0.9850 - val_accuracy: 0.5510\n",
      "Epoch 5/5\n",
      "7/7 [==============================] - 0s 4ms/step - loss: 0.6350 - accuracy: 0.6684 - val_loss: 0.8507 - val_accuracy: 0.5306\n"
     ]
    },
    {
     "data": {
      "text/plain": [
       "<keras.callbacks.History at 0x7f9b710e7bb0>"
      ]
     },
     "execution_count": 60,
     "metadata": {},
     "output_type": "execute_result"
    }
   ],
   "source": [
    "model = tf.keras.Sequential([\n",
    "  feature_layer,\n",
    "  layers.Dense(128, activation='relu'),\n",
    "  layers.Dense(128, activation='relu'),\n",
    "  layers.Dense(1, activation='sigmoid')\n",
    "])\n",
    "\n",
    "model.compile(optimizer='adam',\n",
    "              loss='binary_crossentropy',\n",
    "              metrics=['accuracy'])\n",
    "\n",
    "model.fit(train_ds,\n",
    "          validation_data=val_ds,\n",
    "          epochs=5)"
   ]
  },
  {
   "cell_type": "code",
   "execution_count": 61,
   "id": "6de377db",
   "metadata": {},
   "outputs": [
    {
     "name": "stdout",
     "output_type": "stream",
     "text": [
      "2/2 [==============================] - 0s 4ms/step - loss: 0.5957 - accuracy: 0.6393\n",
      "정확도 0.6393442749977112\n"
     ]
    }
   ],
   "source": [
    "loss, accuracy = model.evaluate(test_ds)\n",
    "print(\"정확도\", accuracy)"
   ]
  }
 ],
 "metadata": {
  "kernelspec": {
   "display_name": "Python 3 (ipykernel)",
   "language": "python",
   "name": "python3"
  },
  "language_info": {
   "codemirror_mode": {
    "name": "ipython",
    "version": 3
   },
   "file_extension": ".py",
   "mimetype": "text/x-python",
   "name": "python",
   "nbconvert_exporter": "python",
   "pygments_lexer": "ipython3",
   "version": "3.8.12"
  }
 },
 "nbformat": 4,
 "nbformat_minor": 5
}
