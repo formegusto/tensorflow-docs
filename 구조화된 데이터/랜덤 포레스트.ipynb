{
 "cells": [
  {
   "cell_type": "code",
   "execution_count": 43,
   "id": "1ab4c2ef",
   "metadata": {},
   "outputs": [],
   "source": [
    "from sklearn.model_selection import train_test_split\n",
    "from sklearn.ensemble import RandomForestClassifier\n",
    "from sklearn.datasets import make_moons\n",
    "import tensorflow as tf\n",
    "import pandas as pd\n",
    "import numpy as np"
   ]
  },
  {
   "cell_type": "code",
   "execution_count": 163,
   "id": "11295c18",
   "metadata": {},
   "outputs": [
    {
     "name": "stdout",
     "output_type": "stream",
     "text": [
      "<class 'pandas.core.frame.DataFrame'>\n",
      "RangeIndex: 344 entries, 0 to 343\n",
      "Data columns (total 8 columns):\n",
      " #   Column             Non-Null Count  Dtype  \n",
      "---  ------             --------------  -----  \n",
      " 0   species            344 non-null    int64  \n",
      " 1   island             344 non-null    object \n",
      " 2   bill_length_mm     344 non-null    float64\n",
      " 3   bill_depth_mm      344 non-null    float64\n",
      " 4   flipper_length_mm  344 non-null    float64\n",
      " 5   body_mass_g        344 non-null    float64\n",
      " 6   sex                344 non-null    int64  \n",
      " 7   year               344 non-null    int64  \n",
      "dtypes: float64(4), int64(3), object(1)\n",
      "memory usage: 21.6+ KB\n"
     ]
    }
   ],
   "source": [
    "dataset_df.info()"
   ]
  },
  {
   "cell_type": "code",
   "execution_count": 166,
   "id": "2b552dc9",
   "metadata": {},
   "outputs": [
    {
     "data": {
      "text/plain": [
       "['Dream', 'Biscoe', 'Torgersen']"
      ]
     },
     "execution_count": 166,
     "metadata": {},
     "output_type": "execute_result"
    }
   ],
   "source": []
  },
  {
   "cell_type": "code",
   "execution_count": 174,
   "id": "12eb19d9",
   "metadata": {},
   "outputs": [
    {
     "name": "stdout",
     "output_type": "stream",
     "text": [
      "  species     island  bill_length_mm  bill_depth_mm  flipper_length_mm  \\\n",
      "0  Adelie  Torgersen            39.1           18.7              181.0   \n",
      "1  Adelie  Torgersen            39.5           17.4              186.0   \n",
      "2  Adelie  Torgersen            40.3           18.0              195.0   \n",
      "\n",
      "   body_mass_g     sex  year  \n",
      "0       3750.0    male  2007  \n",
      "1       3800.0  female  2007  \n",
      "2       3250.0  female  2007  \n",
      "['Gentoo', 'Chinstrap', 'Adelie']\n",
      "[0, 'female', 'male']\n",
      "['Dream', 'Biscoe', 'Torgersen']\n",
      "<class 'pandas.core.frame.DataFrame'>\n",
      "RangeIndex: 344 entries, 0 to 343\n",
      "Data columns (total 8 columns):\n",
      " #   Column             Non-Null Count  Dtype  \n",
      "---  ------             --------------  -----  \n",
      " 0   species            344 non-null    int64  \n",
      " 1   island             344 non-null    int64  \n",
      " 2   bill_length_mm     344 non-null    float64\n",
      " 3   bill_depth_mm      344 non-null    float64\n",
      " 4   flipper_length_mm  344 non-null    float64\n",
      " 5   body_mass_g        344 non-null    float64\n",
      " 6   sex                344 non-null    int64  \n",
      " 7   year               344 non-null    int64  \n",
      "dtypes: float64(4), int64(4)\n",
      "memory usage: 21.6 KB\n"
     ]
    }
   ],
   "source": [
    "# Load a dataset into a Pandas Dataframe.\n",
    "dataset_df = pd.read_csv(\"./tmp/penguins.csv\")\n",
    "dataset_df = dataset_df.fillna(0)\n",
    "\n",
    "# Display the first 3 examples.\n",
    "print(dataset_df.head(3))\n",
    "\n",
    "print(list(set(dataset_df['species'])))\n",
    "print(list(set(dataset_df['sex'])))\n",
    "print(list(set(dataset_df['island'])))\n",
    "\n",
    "species = np.array(list(set(dataset_df['species'])))\n",
    "new_species = np.array([])\n",
    "\n",
    "sex = np.array(['female', 'male'])\n",
    "new_sex = np.array([])\n",
    "\n",
    "islands = np.array(list(set(dataset_df['island'])))\n",
    "new_isl = np.array([])\n",
    "\n",
    "for idx in dataset_df.index:\n",
    "    spe = dataset_df.loc[idx]['species']\n",
    "    se = dataset_df.loc[idx]['sex']\n",
    "    isl = dataset_df.loc[idx]['island']\n",
    "    \n",
    "    new_spe = np.where(species == spe)[0][0]\n",
    "    new_isl = np.where(islands == isl)[0][0]\n",
    "    if se != 0:\n",
    "        new_se = np.where(sex == se)[0][0]\n",
    "    else:\n",
    "        new_se = 0\n",
    "    \n",
    "    new_species = np.append(new_species, new_spe)\n",
    "    new_sex = np.append(new_sex, new_se)\n",
    "    \n",
    "dataset_df['species'] = new_species.astype('int64')\n",
    "dataset_df['sex'] = new_sex.astype('int64')\n",
    "dataset_df['island'] = new_isl.astype('int64')\n",
    "\n",
    "dataset_df.info()"
   ]
  },
  {
   "cell_type": "code",
   "execution_count": 175,
   "id": "f86f9daa",
   "metadata": {},
   "outputs": [],
   "source": [
    "def df_to_dataset(dataframe, shuffle=True, batch_size=32):\n",
    "  dataframe = dataframe.copy()\n",
    "  labels = dataframe.pop('species')\n",
    "  ds = tf.data.Dataset.from_tensor_slices((dict(dataframe), labels))\n",
    "  if shuffle:\n",
    "    ds = ds.shuffle(buffer_size=len(dataframe))\n",
    "  ds = ds.batch(batch_size)\n",
    "  return ds"
   ]
  },
  {
   "cell_type": "code",
   "execution_count": 176,
   "id": "d13025d4",
   "metadata": {},
   "outputs": [],
   "source": [
    "train, test = train_test_split(dataset_df, test_size=0.2)\n",
    "train, val = train_test_split(train, test_size=0.2)\n",
    "\n",
    "batch_size = 5 # 예제를 위해 작은 배치 크기를 사용합니다.\n",
    "train_ds = df_to_dataset(train, batch_size=batch_size)\n",
    "val_ds = df_to_dataset(val, shuffle=False, batch_size=batch_size)\n",
    "test_ds = df_to_dataset(test, shuffle=False, batch_size=batch_size)"
   ]
  },
  {
   "cell_type": "code",
   "execution_count": 177,
   "id": "943a5569",
   "metadata": {},
   "outputs": [],
   "source": [
    "X, y = dataset_df[dataset_df.columns.difference(['species'])],\\\n",
    "    dataset_df['species']\n",
    "\n",
    "X_train, X_test, y_train, y_test = train_test_split(X,y,random_state=0)"
   ]
  },
  {
   "cell_type": "code",
   "execution_count": 229,
   "id": "1ea86d61",
   "metadata": {},
   "outputs": [
    {
     "data": {
      "text/plain": [
       "RandomForestClassifier(max_depth=3, n_estimators=10)"
      ]
     },
     "execution_count": 229,
     "metadata": {},
     "output_type": "execute_result"
    }
   ],
   "source": [
    "model = RandomForestClassifier(n_estimators=10, max_depth=3)\n",
    "model.fit(X_train, y_train)"
   ]
  },
  {
   "cell_type": "code",
   "execution_count": 230,
   "id": "1086cf9a",
   "metadata": {},
   "outputs": [
    {
     "name": "stdout",
     "output_type": "stream",
     "text": [
      "학습 세트 정확도: 0.953\n",
      "테스트 세트 정확도: 0.988\n"
     ]
    }
   ],
   "source": [
    "train_score = model.score(X_train, y_train)\n",
    "test_score = model.score(X_test, y_test)\n",
    "\n",
    "print('학습 세트 정확도: {:.3f}'.format(train_score))\n",
    "print('테스트 세트 정확도: {:.3f}'.format(test_score))"
   ]
  },
  {
   "cell_type": "code",
   "execution_count": 231,
   "id": "ffb174fe",
   "metadata": {},
   "outputs": [
    {
     "name": "stderr",
     "output_type": "stream",
     "text": [
      "/Users/formegusto/opt/anaconda3/lib/python3.8/site-packages/sklearn/base.py:450: UserWarning: X does not have valid feature names, but RandomForestClassifier was fitted with feature names\n",
      "  warnings.warn(\n"
     ]
    },
    {
     "data": {
      "text/plain": [
       "array([2])"
      ]
     },
     "execution_count": 231,
     "metadata": {},
     "output_type": "execute_result"
    }
   ],
   "source": [
    "model.predict(np.array([X_train.loc[0].values]))"
   ]
  },
  {
   "cell_type": "code",
   "execution_count": 232,
   "id": "31bfca8c",
   "metadata": {},
   "outputs": [
    {
     "data": {
      "text/plain": [
       "2"
      ]
     },
     "execution_count": 232,
     "metadata": {},
     "output_type": "execute_result"
    }
   ],
   "source": [
    "y_train[0]"
   ]
  },
  {
   "cell_type": "code",
   "execution_count": 233,
   "id": "585dc929",
   "metadata": {},
   "outputs": [],
   "source": [
    "import matplotlib.pyplot as plt\n",
    "import seaborn as sns\n",
    "%matplotlib inline"
   ]
  },
  {
   "cell_type": "code",
   "execution_count": 237,
   "id": "a450e055",
   "metadata": {},
   "outputs": [
    {
     "data": {
      "text/plain": [
       "<AxesSubplot:title={'center':'Feature Importances'}>"
      ]
     },
     "execution_count": 237,
     "metadata": {},
     "output_type": "execute_result"
    },
    {
     "data": {
      "image/png": "[encoded data removed]",
      "text/plain": [
       "<Figure size 576x432 with 1 Axes>"
      ]
     },
     "metadata": {
      "needs_background": "light"
     },
     "output_type": "display_data"
    }
   ],
   "source": [
    "model_importances_values = model.feature_importances_\n",
    "model_importances = pd.Series(model_importances_values, index=X_train.columns)\n",
    "model_importances_sort = model_importances.sort_values(ascending=False)\n",
    "\n",
    "plt.figure(figsize=(8,6))\n",
    "plt.title(\"Feature Importances\")\n",
    "sns.barplot(x=model_importances_sort, y=model_importances.index)"
   ]
  }
 ],
 "metadata": {
  "kernelspec": {
   "display_name": "Python 3 (ipykernel)",
   "language": "python",
   "name": "python3"
  },
  "language_info": {
   "codemirror_mode": {
    "name": "ipython",
    "version": 3
   },
   "file_extension": ".py",
   "mimetype": "text/x-python",
   "name": "python",
   "nbconvert_exporter": "python",
   "pygments_lexer": "ipython3",
   "version": "3.8.12"
  }
 },
 "nbformat": 4,
 "nbformat_minor": 5
}
